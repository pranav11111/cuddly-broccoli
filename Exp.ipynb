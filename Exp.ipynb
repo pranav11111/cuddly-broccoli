{
 "cells": [
  {
   "cell_type": "code",
   "execution_count": 3,
   "id": "38233e1b",
   "metadata": {},
   "outputs": [],
   "source": [
    "import os\n",
    "from dotenv import load_dotenv\n",
    "load_dotenv()\n",
    "groq_api_key = os.getenv(\"GROQ_API_KEY\")"
   ]
  },
  {
   "cell_type": "code",
   "execution_count": 4,
   "id": "d232b76f",
   "metadata": {},
   "outputs": [],
   "source": [
    "from langchain_groq import ChatGroq\n",
    "model = ChatGroq(model = \"Gemma2-9b-It\", groq_api_key = groq_api_key)"
   ]
  },
  {
   "cell_type": "code",
   "execution_count": 7,
   "id": "fdc29c79",
   "metadata": {},
   "outputs": [
    {
     "data": {
      "text/plain": [
       "AIMessage(content=\"Hi Pranav! It's nice to meet you. \\n\\nAs a large language model, I'm always interested in learning about what data scientists are working on. What kind of projects are you involved in these days?\\n\", additional_kwargs={}, response_metadata={'token_usage': {'completion_tokens': 49, 'prompt_tokens': 20, 'total_tokens': 69, 'completion_time': 0.089090909, 'prompt_time': 0.001923336, 'queue_time': 0.253568744, 'total_time': 0.091014245}, 'model_name': 'Gemma2-9b-It', 'system_fingerprint': 'fp_10c08bf97d', 'finish_reason': 'stop', 'logprobs': None}, id='run--c0e80a5a-5f07-44f3-bddc-51e299100973-0', usage_metadata={'input_tokens': 20, 'output_tokens': 49, 'total_tokens': 69})"
      ]
     },
     "execution_count": 7,
     "metadata": {},
     "output_type": "execute_result"
    }
   ],
   "source": [
    "from langchain_core.messages import HumanMessage\n",
    "\n",
    "model.invoke([HumanMessage(content= \"Hi, I am Pranav and a data scientiest\")])"
   ]
  },
  {
   "cell_type": "code",
   "execution_count": 8,
   "id": "6929446f",
   "metadata": {},
   "outputs": [
    {
     "data": {
      "text/plain": [
       "AIMessage(content=\"You are Pranav, and you are a data scientist!  \\n\\nYou told me so at the beginning of our conversation. 😊  \\n\\nIs there anything else you'd like to talk about?\\n\", additional_kwargs={}, response_metadata={'token_usage': {'completion_tokens': 43, 'prompt_tokens': 82, 'total_tokens': 125, 'completion_time': 0.078181818, 'prompt_time': 0.007743491, 'queue_time': 0.254553338, 'total_time': 0.085925309}, 'model_name': 'Gemma2-9b-It', 'system_fingerprint': 'fp_10c08bf97d', 'finish_reason': 'stop', 'logprobs': None}, id='run--6b6c32d6-882d-4937-acd5-d2f95cda3c09-0', usage_metadata={'input_tokens': 82, 'output_tokens': 43, 'total_tokens': 125})"
      ]
     },
     "execution_count": 8,
     "metadata": {},
     "output_type": "execute_result"
    }
   ],
   "source": [
    "from langchain_core.messages import AIMessage\n",
    "\n",
    "model.invoke([\n",
    "    HumanMessage(\"Hi, I am Pranav and a data scientiest\"),\n",
    "    AIMessage(content=\"Hi Pranav! \\n\\nIt's nice to meet you.  \\n\\nWhat kind of data science work are you involved in? I'm always interested to learn about what people are doing with data. 😄 \\n\\n\"),\n",
    "    HumanMessage(content=\"Hey whats my name and profession?\")\n",
    "    \n",
    "])"
   ]
  },
  {
   "cell_type": "code",
   "execution_count": 11,
   "id": "538a94b7",
   "metadata": {},
   "outputs": [],
   "source": [
    "from langchain_community.chat_message_histories import ChatMessageHistory\n",
    "from langchain_core.chat_history import BaseChatMessageHistory\n",
    "from langchain_core.runnables.history import RunnableWithMessageHistory\n",
    "\n",
    "store = {}\n",
    "\n",
    "def get_session(session_id:str)-> BaseChatMessageHistory:\n",
    "    if session_id not in store:\n",
    "        store[session_id] = ChatMessageHistory()\n",
    "    return store[session_id]\n",
    "\n",
    "\n",
    "with_message_hist = RunnableWithMessageHistory(model, get_session)"
   ]
  },
  {
   "cell_type": "code",
   "execution_count": 22,
   "id": "6e95edc6",
   "metadata": {},
   "outputs": [],
   "source": [
    "config = {'configurable' : {\"session_id\": \"Chat1\"}}"
   ]
  },
  {
   "cell_type": "code",
   "execution_count": 23,
   "id": "d8c8e6d3",
   "metadata": {},
   "outputs": [],
   "source": [
    "response = with_message_hist.invoke(\n",
    "\n",
    "    [ HumanMessage('Hi, I am Pranav and a data scientiest')],\n",
    "      config= config\n",
    "\n",
    ")"
   ]
  },
  {
   "cell_type": "code",
   "execution_count": 25,
   "id": "88a09747",
   "metadata": {},
   "outputs": [
    {
     "data": {
      "text/plain": [
       "\"Hi Pranav! It's nice to meet you. \\n\\nWhat can I do for you today? Are you working on any interesting projects? Perhaps you have a data science question you'd like to discuss, or maybe you just want to chat about the field?  \\n\\nI'm here to help in any way I can! 😄\\n\""
      ]
     },
     "execution_count": 25,
     "metadata": {},
     "output_type": "execute_result"
    }
   ],
   "source": [
    "response.content"
   ]
  },
  {
   "cell_type": "code",
   "execution_count": 26,
   "id": "2d9059cc",
   "metadata": {},
   "outputs": [
    {
     "data": {
      "text/plain": [
       "'Your name is Pranav, as you told me at the beginning of our conversation.  😊 \\n\\nIs there anything else I can help you with?\\n'"
      ]
     },
     "execution_count": 26,
     "metadata": {},
     "output_type": "execute_result"
    }
   ],
   "source": [
    "response = with_message_hist.invoke(\n",
    "\n",
    "    [ HumanMessage('Whats my name')],\n",
    "      config= config\n",
    "\n",
    ")\n",
    "\n",
    "response.content"
   ]
  },
  {
   "cell_type": "code",
   "execution_count": 27,
   "id": "e70894bb",
   "metadata": {},
   "outputs": [
    {
     "data": {
      "text/plain": [
       "\"As an AI, I have no memory of past conversations and do not know your name. If you'd like to tell me your name, I'd be happy to know!\\n\""
      ]
     },
     "execution_count": 27,
     "metadata": {},
     "output_type": "execute_result"
    }
   ],
   "source": [
    "config1 = {'configurable' : {\"session_id\": \"Chat2\"}}\n",
    "\n",
    "response = with_message_hist.invoke(\n",
    "\n",
    "    [ HumanMessage('Whats my name')],\n",
    "      config= config1\n",
    "\n",
    ")\n",
    "\n",
    "response.content"
   ]
  },
  {
   "cell_type": "code",
   "execution_count": 5,
   "id": "e42b85cb",
   "metadata": {},
   "outputs": [],
   "source": [
    "from langchain_core.prompts import ChatPromptTemplate, MessagesPlaceholder\n",
    "from langchain_core.output_parsers import StrOutputParser\n",
    "\n",
    "prompt = ChatPromptTemplate.from_messages(\n",
    "\n",
    "    [\n",
    "        ('system', 'You are a AI assistant answer all questions to the best of your abilities'),\n",
    "        MessagesPlaceholder(variable_name='messages')\n",
    "\n",
    "    ]\n",
    "\n",
    ")\n",
    "\n",
    "parser = StrOutputParser()\n",
    "\n",
    "chain = prompt | model | parser"
   ]
  },
  {
   "cell_type": "code",
   "execution_count": 10,
   "id": "92cde11a",
   "metadata": {},
   "outputs": [
    {
     "data": {
      "text/plain": [
       "\"Hi Pranav! 👋\\n\\nIt's nice to meet you.  \\n\\nI'm ready to answer your questions to the best of my ability.  What can I help you with today? 😊  \\n\\n\""
      ]
     },
     "execution_count": 10,
     "metadata": {},
     "output_type": "execute_result"
    }
   ],
   "source": [
    "response = chain.invoke({'messages': [HumanMessage(content= \"Hi I am Pranav\")]})\n",
    "response"
   ]
  },
  {
   "cell_type": "code",
   "execution_count": 34,
   "id": "d945bb0f",
   "metadata": {},
   "outputs": [],
   "source": [
    "with_message_hist = RunnableWithMessageHistory(chain, get_session)"
   ]
  },
  {
   "cell_type": "code",
   "execution_count": 37,
   "id": "c38766fb",
   "metadata": {},
   "outputs": [
    {
     "data": {
      "text/plain": [
       "AIMessage(content=\"Since I don't have access to past conversations, I still don't know your name.  \\n\\nWould you like to tell me?  \\n\\n\", additional_kwargs={}, response_metadata={'token_usage': {'completion_tokens': 34, 'prompt_tokens': 79, 'total_tokens': 113, 'completion_time': 0.061818182, 'prompt_time': 0.004260329, 'queue_time': 0.24883381100000002, 'total_time': 0.066078511}, 'model_name': 'Gemma2-9b-It', 'system_fingerprint': 'fp_10c08bf97d', 'finish_reason': 'stop', 'logprobs': None}, id='run--592d28fe-4f07-4815-ab26-c45449f58dc7-0', usage_metadata={'input_tokens': 79, 'output_tokens': 34, 'total_tokens': 113})"
      ]
     },
     "execution_count": 37,
     "metadata": {},
     "output_type": "execute_result"
    }
   ],
   "source": [
    "config2 = {'configurable' : {'session_id':\"Chat3\"}}\n",
    "\n",
    "\n",
    "response = with_message_hist.invoke(\n",
    "    [HumanMessage(content= \"Whats my name?\")],\n",
    "    config = config2\n",
    ")\n",
    "\n",
    "response\n"
   ]
  },
  {
   "cell_type": "code",
   "execution_count": 43,
   "id": "dec72454",
   "metadata": {},
   "outputs": [],
   "source": [
    "prompt = ChatPromptTemplate.from_messages(\n",
    "\n",
    "    [\n",
    "        ('system', 'You are a AI assistant answer all questions to the best of your abilities in {language}'),\n",
    "        MessagesPlaceholder(variable_name='messages')\n",
    "\n",
    "    ]\n",
    "\n",
    ")\n",
    "\n",
    "chain = prompt | model"
   ]
  },
  {
   "cell_type": "code",
   "execution_count": 44,
   "id": "a6004921",
   "metadata": {},
   "outputs": [
    {
     "data": {
      "text/plain": [
       "AIMessage(content='नमस्ते प्रणव! 👋 \\n\\nमैं आपकी सहायता करने के लिए तैयार हूँ। आप मुझसे जो भी प्रश्न पूछेंगे, मैं अपनी पूरी क्षमता से उत्तर देने की कोशिश करूंगा।  😊 \\n\\nआपका कोई प्रश्न है? 🤔\\n\\n', additional_kwargs={}, response_metadata={'token_usage': {'completion_tokens': 67, 'prompt_tokens': 30, 'total_tokens': 97, 'completion_time': 0.121818182, 'prompt_time': 0.005313257, 'queue_time': 0.257914323, 'total_time': 0.127131439}, 'model_name': 'Gemma2-9b-It', 'system_fingerprint': 'fp_10c08bf97d', 'finish_reason': 'stop', 'logprobs': None}, id='run--c33fbb3c-2bb5-4e61-855d-550f34393ba4-0', usage_metadata={'input_tokens': 30, 'output_tokens': 67, 'total_tokens': 97})"
      ]
     },
     "execution_count": 44,
     "metadata": {},
     "output_type": "execute_result"
    }
   ],
   "source": [
    "response = chain.invoke({'messages': [HumanMessage(content= \"Hi I am pranav\")], \"language\":\"Hindi\"})\n",
    "response"
   ]
  },
  {
   "cell_type": "code",
   "execution_count": 49,
   "id": "7c75735d",
   "metadata": {},
   "outputs": [
    {
     "data": {
      "text/plain": [
       "'प्रणव जी, नमस्ते!  \\n\\nआप कैसे हैं? क्या मैं आपकी कोई मदद कर सकता हूँ?  😊  \\n'"
      ]
     },
     "execution_count": 49,
     "metadata": {},
     "output_type": "execute_result"
    }
   ],
   "source": [
    "with_message_hist = RunnableWithMessageHistory(\n",
    "    chain,\n",
    "    get_session,\n",
    "    input_messages_key= 'messages'\n",
    ")\n",
    "config3 = {'configurable' : {'session_id':\"Chat4\"}}\n",
    "\n",
    "response = with_message_hist.invoke(\n",
    "    {'messages':[HumanMessage(content= \"Hi I am pranav\")], \"language\":\"Hindi\"},\n",
    "    config=config\n",
    ")\n",
    "response.content\n"
   ]
  },
  {
   "cell_type": "code",
   "execution_count": 50,
   "id": "24ae74d5",
   "metadata": {},
   "outputs": [
    {
     "data": {
      "text/plain": [
       "'आपका नाम प्रणव है। 😊  \\n'"
      ]
     },
     "execution_count": 50,
     "metadata": {},
     "output_type": "execute_result"
    }
   ],
   "source": [
    "response = with_message_hist.invoke(\n",
    "    {'messages':[HumanMessage(content= \"Whats my name?\")], \"language\":\"Hindi\"},\n",
    "    config=config\n",
    ")\n",
    "response.content\n"
   ]
  },
  {
   "cell_type": "code",
   "execution_count": null,
   "id": "c2d64354",
   "metadata": {},
   "outputs": [],
   "source": []
  }
 ],
 "metadata": {
  "kernelspec": {
   "display_name": "venv",
   "language": "python",
   "name": "python3"
  },
  "language_info": {
   "codemirror_mode": {
    "name": "ipython",
    "version": 3
   },
   "file_extension": ".py",
   "mimetype": "text/x-python",
   "name": "python",
   "nbconvert_exporter": "python",
   "pygments_lexer": "ipython3",
   "version": "3.11.0"
  }
 },
 "nbformat": 4,
 "nbformat_minor": 5
}
